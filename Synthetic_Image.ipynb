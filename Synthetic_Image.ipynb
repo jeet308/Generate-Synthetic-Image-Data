{
 "cells": [
  {
   "cell_type": "code",
   "execution_count": 15,
   "id": "dea635f7",
   "metadata": {},
   "outputs": [],
   "source": [
    "import sys\n",
    "import os\n",
    "import numpy as np\n",
    "import cv2 \n",
    "import albumentations as aug\n",
    "import pandas as pd\n",
    "from random import randint\n",
    "import random\n",
    "import matplotlib.pyplot as plt"
   ]
  },
  {
   "cell_type": "code",
   "execution_count": 2,
   "id": "46daa480",
   "metadata": {},
   "outputs": [],
   "source": [
    "image_path = '/home/foreground_img'   # foreground images path\n",
    "back_path = '/home/background_img'    # background images path"
   ]
  },
  {
   "cell_type": "code",
   "execution_count": 3,
   "id": "9b9b7407",
   "metadata": {},
   "outputs": [],
   "source": [
    "class augmentor():\n",
    "    \n",
    "    def __init__(self):\n",
    "        \n",
    "         self.aug={}\n",
    "            \n",
    "         self.aug['rc']=aug.augmentations.transforms.RandomResizedCrop(1080, 1080, scale=(0.08, 1.0), ratio=(0.75, 1.3333333333333333), interpolation=1, always_apply=False, p=1.0) \n",
    "    \n",
    "    def background(self,image):\n",
    "\n",
    "        augmented=self.aug[\"rc\"](image=image)\n",
    "        return augmented['image']\n"
   ]
  },
  {
   "cell_type": "code",
   "execution_count": 4,
   "id": "19019812",
   "metadata": {},
   "outputs": [],
   "source": [
    "augment=augmentor()"
   ]
  },
  {
   "cell_type": "code",
   "execution_count": 5,
   "id": "6e2334e7",
   "metadata": {},
   "outputs": [],
   "source": [
    "def getpoints(pts,pos):\n",
    "    (yp,xp)=pos        \n",
    "    points=pts+np.array([xp,yp])\n",
    "    return points    "
   ]
  },
  {
   "cell_type": "code",
   "execution_count": 6,
   "id": "3c6cd621",
   "metadata": {},
   "outputs": [],
   "source": [
    "def getpos(fore,back):\n",
    "    f_size=fore.shape\n",
    "    b_size=back.shape\n",
    "    \n",
    "    assert(b_size[0]>f_size[0] and b_size[1]>f_size[1]) \n",
    "    \n",
    "    x1=f_size[0]\n",
    "    x2=b_size[0]\n",
    "        \n",
    "    y1=f_size[1]\n",
    "    y2=b_size[1]\n",
    "        \n",
    "    x=randint(0,(x2-x1))\n",
    "    y=randint(0,(y2-y1))\n",
    "       \n",
    "    return (x,y)"
   ]
  },
  {
   "cell_type": "code",
   "execution_count": null,
   "id": "13cb78c5",
   "metadata": {},
   "outputs": [],
   "source": []
  },
  {
   "cell_type": "code",
   "execution_count": 7,
   "id": "470fa5bf",
   "metadata": {},
   "outputs": [],
   "source": [
    "def stack_image(imgb,img2,pos):\n",
    "       \n",
    "    posx,posy=(pos)\n",
    "    img1=imgb.copy()\n",
    "    (w,h,c)=img2.shape\n",
    "       \n",
    "    crp=img1[posx:posx+w,posy:posy+h,:]\n",
    "    crp[np.where(img2>=0)]=img2[np.where(img2>=0)].ravel()\n",
    "    img1[posx:posx+w,posy:posy+h,:]=crp\n",
    "    \n",
    "    return img1"
   ]
  },
  {
   "cell_type": "code",
   "execution_count": 8,
   "id": "cfce3616",
   "metadata": {},
   "outputs": [],
   "source": [
    "def save_image(img,name): \n",
    "    path = '/home/synthetic data/data'  # new images save path\n",
    "    cv2.imwrite(os.path.join(path ,name+'.jpg'), img)"
   ]
  },
  {
   "cell_type": "code",
   "execution_count": 9,
   "id": "3f976b92",
   "metadata": {},
   "outputs": [],
   "source": [
    "def get_dataframe(img_count,pts,path):\n",
    "        \n",
    "    [[x1,y1],[x2,y2],[x3,y3],[x4,y4]]=pts\n",
    "    name='image_'+str(img_count)+'.jpg'\n",
    "    dataframe = pd.DataFrame([[path+name,  x1, y1, x2, y2, x3, y3, x4, y4]])\n",
    "    return dataframe"
   ]
  },
  {
   "cell_type": "code",
   "execution_count": 10,
   "id": "0af11228",
   "metadata": {},
   "outputs": [],
   "source": [
    "def crop_with_kp(image,kp):\n",
    "       \n",
    "    pts=np.array((kp), np.int32)\n",
    "        \n",
    "    minx=min(pts[:,0])\n",
    "    maxx=max(pts[:,0])\n",
    "    miny=min(pts[:,1])\n",
    "    maxy=max(pts[:,1])\n",
    "    \n",
    "    y,x,_=image.shape\n",
    "    xl=randint(0,minx)\n",
    "    xr=randint(maxx,x-1)\n",
    "    yu=randint(0,miny)\n",
    "    yd=randint(maxy,y-1)\n",
    "    new_img=image[yu:yd,xl:xr,:]\n",
    "    pts=pts-np.array(([xl,yu]))\n",
    "    \n",
    "    return new_img,pts"
   ]
  },
  {
   "cell_type": "code",
   "execution_count": 11,
   "id": "93f017cc",
   "metadata": {},
   "outputs": [],
   "source": [
    "def getPerspectiveTransform(image):\n",
    "    \n",
    "    strength = random.randint(30,60)\n",
    "    \n",
    "    (yf,xf,c)=image.shape\n",
    "    pts_base=np.float32(([(0,0),(xf,0),(xf,yf),(0,yf)]))\n",
    "    \n",
    "    pts=np.random.rand(4, 2)*random.uniform(-strength,0)+pts_base\n",
    "\n",
    "    pts=pts.astype(np.float32)\n",
    "\n",
    "    M = cv2.getPerspectiveTransform(pts, pts_base)\n",
    "    trans_img = cv2.warpPerspective(image, M, (int(xf*1.5),int(yf*1.5)),cv2.INTER_LINEAR, cv2.BORDER_CONSTANT)\n",
    "\n",
    "    pts=np.array((pts), np.int32)\n",
    "    pts[:,0]-=min(pts[:,0])\n",
    "    pts[:,1]-=min(pts[:,1])\n",
    "  \n",
    "    return trans_img,pts"
   ]
  },
  {
   "cell_type": "code",
   "execution_count": 12,
   "id": "359de32d",
   "metadata": {},
   "outputs": [],
   "source": [
    "def generate_image(fore_img,back_img,f_size_ran,b_size_ran,rot_prob=1,randomcrop=False):\n",
    "\n",
    "    fore=os.path.join(image_path, fore_img)\n",
    "    back=os.path.join(back_path, back_img)\n",
    "     \n",
    "    fore=cv2.imread(fore)\n",
    "    back=cv2.imread(back) \n",
    "    \n",
    "    xf=randint(f_size_ran[0],f_size_ran[1])\n",
    "    yf=int(fore.shape[0]/fore.shape[1]*xf)\n",
    "            \n",
    "    x=randint(int(xf*2),b_size_ran[1])\n",
    "    y=randint(int(yf*2),b_size_ran[1])\n",
    "        \n",
    "    f_size=(xf,yf)\n",
    "    b_size=(x,y)\n",
    "    \n",
    "    if(randomcrop):\n",
    "        back=augment.background(back)\n",
    "\n",
    "            \n",
    "    fore=cv2.resize(fore,f_size,interpolation = cv2.INTER_AREA)\n",
    "    back=cv2.resize(back,b_size,interpolation = cv2.INTER_AREA)        \n",
    "            \n",
    "    (yf,xf,c)=fore.shape\n",
    "    pts=np.array(([(0,0),(xf,0),(xf,yf),(0,yf)]))# initial points\n",
    "            \n",
    "            \n",
    "    if(randint(0,rot_prob)==0):\n",
    "        fore=fore.astype(\"float32\")\n",
    "        fore=fore+1\n",
    "        fore,pts=getPerspectiveTransform(fore)\n",
    "        fore=fore-1\n",
    "    \n",
    "    pos=getpos(fore,back)\n",
    "    new_img=stack_image(back,fore,pos)              \n",
    "    point=getpoints(pts, pos)\n",
    "                                                              \n",
    "    img,pts=crop_with_kp(new_img,point)\n",
    "            \n",
    "    return img,pts"
   ]
  },
  {
   "cell_type": "code",
   "execution_count": 13,
   "id": "a8f96e9a",
   "metadata": {},
   "outputs": [],
   "source": [
    "def generate(f_size_ran, b_size_ran,rot_prob=1,randomcrop=False):\n",
    "    foreimage=os.listdir(image_path)\n",
    "    backimage=os.listdir(back_path)\n",
    "    dataframe=pd.DataFrame()\n",
    "    misimg=0\n",
    "    img_count=0\n",
    "    total=0\n",
    "\n",
    "    for bimg in backimage:\n",
    "\n",
    "        for fimg in foreimage : \n",
    "\n",
    "            try:\n",
    "                   \n",
    "                img,pts=generate_image(fimg,bimg,f_size_ran,b_size_ran,rot_prob=rot_prob,randomcrop=randomcrop)\n",
    "                img_count+=1\n",
    "                path ='/home/synthetic data/data'   # new images save path\n",
    "                df=get_dataframe(img_count,pts,path)\n",
    "                    \n",
    "                dataframe=dataframe.append(df,ignore_index=True)\n",
    "                img_name='image_'+str(img_count)\n",
    "                save_image(img,img_name)\n",
    "                   \n",
    "            except :\n",
    "                misimg+=1\n",
    "\n",
    "            finally:\n",
    "                total+=1\n",
    "          \n",
    "            \n",
    "    dataframe.to_csv('synthetic_data.csv', header=['image_path', 'x1', 'y1', 'x2', 'y2', 'x3', 'y3', 'x4', 'y4'])\n",
    "    print(\"processed \",total,\"samples\\nmissed  \",misimg,\"  samples\")    \n",
    "\n",
    "\n",
    "\n",
    "\n"
   ]
  },
  {
   "cell_type": "code",
   "execution_count": 14,
   "id": "ecdf383c",
   "metadata": {},
   "outputs": [
    {
     "name": "stdout",
     "output_type": "stream",
     "text": [
      "processed  1060 samples\n",
      "missed   279   samples\n"
     ]
    }
   ],
   "source": [
    "generate((300,390),(1000,1024),randomcrop=True)"
   ]
  },
  {
   "cell_type": "code",
   "execution_count": null,
   "id": "baacbf99",
   "metadata": {},
   "outputs": [],
   "source": []
  },
  {
   "cell_type": "code",
   "execution_count": null,
   "id": "dd0666b6",
   "metadata": {},
   "outputs": [],
   "source": []
  }
 ],
 "metadata": {
  "kernelspec": {
   "display_name": "Python 3",
   "language": "python",
   "name": "python3"
  },
  "language_info": {
   "codemirror_mode": {
    "name": "ipython",
    "version": 3
   },
   "file_extension": ".py",
   "mimetype": "text/x-python",
   "name": "python",
   "nbconvert_exporter": "python",
   "pygments_lexer": "ipython3",
   "version": "3.8.5"
  }
 },
 "nbformat": 4,
 "nbformat_minor": 5
}
